{
 "cells": [
  {
   "cell_type": "code",
   "execution_count": 2,
   "metadata": {},
   "outputs": [],
   "source": [
    "import pandas as pd\n",
    "import nltk\n",
    "from nltk.tokenize import word_tokenize\n",
    "from nltk.corpus import stopwords\n",
    "import re\n",
    "import os"
   ]
  },
  {
   "cell_type": "code",
   "execution_count": 3,
   "metadata": {},
   "outputs": [],
   "source": [
    "import nltk\n",
    "#nltk.download('all')"
   ]
  },
  {
   "cell_type": "code",
   "execution_count": 4,
   "metadata": {},
   "outputs": [],
   "source": [
    "\n",
    "# Step 2: Read and preprocess the data\n",
    "def read_semeval_data(file_path):\n",
    "    \"\"\"\n",
    "    Read SemEval Twitter data with custom parsing for the mixed format\n",
    "    Returns DataFrame with columns: tweet_id, user_id, label, text\n",
    "    \"\"\"\n",
    "    # Read all lines from the file\n",
    "    with open(file_path, 'r', encoding='utf-8') as f:\n",
    "        lines = f.readlines()\n",
    "    \n",
    "    # Process lines in pairs (metadata and text alternating)\n",
    "    data = []\n",
    "    for i in range(0, len(lines), 2):\n",
    "        if i + 1 < len(lines):  # ensure we have both metadata and text\n",
    "            # Parse metadata line\n",
    "            meta = lines[i].strip().split()\n",
    "            if len(meta) >= 3:  # ensure we have all metadata parts\n",
    "                tweet_id = meta[0]\n",
    "                user_id = meta[1]\n",
    "                label = meta[2]\n",
    "                \n",
    "                # Get corresponding text line\n",
    "                text = lines[i + 1].strip()\n",
    "                \n",
    "                data.append({\n",
    "                    'tweet_id': tweet_id,\n",
    "                    'user_id': user_id,\n",
    "                    'label': label,\n",
    "                    'text': text\n",
    "                })\n",
    "    \n",
    "    return pd.DataFrame(data)"
   ]
  },
  {
   "cell_type": "code",
   "execution_count": 5,
   "metadata": {},
   "outputs": [
    {
     "name": "stdout",
     "output_type": "stream",
     "text": [
      "\n",
      "Training data shape: (4842, 4)\n",
      "\n",
      "Sample of processed data:\n",
      "             tweet_id    user_id                   label  \\\n",
      "0  264183816548130816   15140428              \"positive\"   \n",
      "1  262163168678248449   35266263              \"negative\"   \n",
      "2  262682041215234048  254373818  \"objective-OR-neutral\"   \n",
      "3  264105751826538497  147088367              \"positive\"   \n",
      "4  212392538055778304  274996324             \"objective\"   \n",
      "\n",
      "                                                text  \n",
      "0  263405084770172928\\t591166521\\t\"negative\"\\tThe...  \n",
      "1  264249301910310912\\t18516728\\t\"negative\"\\tIran...  \n",
      "2  264229576773861376\\t518129399\\t\"neutral\"\\tNot ...  \n",
      "3  264094586689953794\\t332474633\\t\"negative\"\\tTal...  \n",
      "4  254941790757601280\\t557103111\\t\"negative\"\\tThe...  \n",
      "\n",
      "Label distribution:\n",
      "\"positive\"                1770\n",
      "\"neutral\"                  862\n",
      "\"objective-OR-neutral\"     848\n",
      "\"negative\"                 749\n",
      "\"objective\"                613\n",
      "Name: label, dtype: int64\n"
     ]
    }
   ],
   "source": [
    "\n",
    "# Read the training data\n",
    "data_path = '/Users/Apexr/Downloads/FinalProjectData/SemEval2014TweetData'\n",
    "train_file = os.path.join(data_path, 'corpus', 'downloaded-tweeti-b-dist.tsv')\n",
    "train_df = read_semeval_data(train_file)\n",
    "\n",
    "print(\"\\nTraining data shape:\", train_df.shape)\n",
    "print(\"\\nSample of processed data:\")\n",
    "print(train_df.head())\n",
    "print(\"\\nLabel distribution:\")\n",
    "print(train_df['label'].value_counts())"
   ]
  },
  {
   "cell_type": "code",
   "execution_count": 6,
   "metadata": {},
   "outputs": [],
   "source": [
    "# Step 3: Define a simpler preprocessing function first\n",
    "def basic_preprocess(tweet):\n",
    "    \"\"\"Basic preprocessing without tokenization\"\"\"\n",
    "    # Convert to lowercase\n",
    "    tweet = tweet.lower()\n",
    "    \n",
    "    # Remove URLs\n",
    "    tweet = re.sub(r'http\\S+|www\\S+|https\\S+', '', tweet)\n",
    "    tweet = re.sub(r'@\\w+', '', tweet)\n",
    "    tweet = re.sub(r'#', '', tweet)\n",
    "    \n",
    "    # Handle elongated words\n",
    "    tweet = re.sub(r'(.)\\1{2,}', r'\\1\\1', tweet)\n",
    "    \n",
    "    return tweet"
   ]
  },
  {
   "cell_type": "code",
   "execution_count": 7,
   "metadata": {},
   "outputs": [
    {
     "name": "stdout",
     "output_type": "stream",
     "text": [
      "\n",
      "Original tweet: @user I loooove this movie!!! #awesome http://movie.com\n",
      "Processed text:  i loove this movie!! awesome \n"
     ]
    }
   ],
   "source": [
    "# Test basic preprocessing #\n",
    "sample_tweet = \"@user I loooove this movie!!! #awesome http://movie.com\"\n",
    "processed_text = basic_preprocess(sample_tweet)\n",
    "print(\"\\nOriginal tweet:\", sample_tweet)\n",
    "print(\"Processed text:\", processed_text)"
   ]
  },
  {
   "cell_type": "code",
   "execution_count": 8,
   "metadata": {},
   "outputs": [],
   "source": [
    "def tokenize_tweet(processed_text):\n",
    "    \"\"\"Tokenize preprocessed text\"\"\"\n",
    "    tokens = processed_text.split()\n",
    "    try:\n",
    "        # Try NLTK tokenization\n",
    "        tokens = word_tokenize(processed_text)\n",
    "    except:\n",
    "        print(\"Warning: Using basic tokenization instead of NLTK\")\n",
    "    return tokens"
   ]
  },
  {
   "cell_type": "code",
   "execution_count": 9,
   "metadata": {},
   "outputs": [
    {
     "name": "stdout",
     "output_type": "stream",
     "text": [
      "\n",
      "Tokenized result: ['i', 'loove', 'this', 'movie', '!', '!', 'awesome']\n"
     ]
    }
   ],
   "source": [
    "# Test tokenization\n",
    "tokens = tokenize_tweet(processed_text)\n",
    "print(\"\\nTokenized result:\", tokens)"
   ]
  },
  {
   "cell_type": "code",
   "execution_count": 10,
   "metadata": {},
   "outputs": [],
   "source": [
    "stop_words = set(stopwords.words('english'))\n"
   ]
  },
  {
   "cell_type": "code",
   "execution_count": 11,
   "metadata": {},
   "outputs": [
    {
     "name": "stdout",
     "output_type": "stream",
     "text": [
      "\n",
      "Loaded 156 Twitter stopwords\n"
     ]
    }
   ],
   "source": [
    "witter_stopwords = set()\n",
    "try:\n",
    "    with open(os.path.join(data_path, 'stopwords_twitter.txt'), 'r') as f:\n",
    "        twitter_stopwords = set(f.read().splitlines())\n",
    "    print(\"\\nLoaded\", len(twitter_stopwords), \"Twitter stopwords\")\n",
    "except:\n",
    "    print(\"\\nNo custom Twitter stopwords file found\")\n",
    "\n",
    "def remove_stopwords(tokens):\n",
    "    \"\"\"Remove stopwords from tokens\"\"\"\n",
    "    return [t for t in tokens if t not in stop_words and t not in twitter_stopwords]\n"
   ]
  },
  {
   "cell_type": "code",
   "execution_count": 12,
   "metadata": {},
   "outputs": [
    {
     "name": "stdout",
     "output_type": "stream",
     "text": [
      "\n",
      "Tokens after stopword removal: ['loove', 'movie', '!', '!', 'awesome']\n"
     ]
    }
   ],
   "source": [
    "cleaned_tokens = remove_stopwords(tokens)\n",
    "print(\"\\nTokens after stopword removal:\", cleaned_tokens)\n"
   ]
  },
  {
   "cell_type": "code",
   "execution_count": 13,
   "metadata": {},
   "outputs": [],
   "source": [
    "def extract_features(tokens):\n",
    "    \"\"\"Extract basic features from tokens\"\"\"\n",
    "    features = {}\n",
    "    \n",
    "    # Bag of words features\n",
    "    for token in tokens:\n",
    "        features[f'contains({token})'] = True\n",
    "    \n",
    "    # Count features\n",
    "    features['tweet_length'] = len(tokens)\n",
    "    features['has_exclamation'] = '!' in tokens\n",
    "    features['has_question'] = '?' in tokens\n",
    "    features['uppercase_count'] = len([t for t in tokens if t.isupper()])\n",
    "    \n",
    "    return features"
   ]
  },
  {
   "cell_type": "code",
   "execution_count": 14,
   "metadata": {},
   "outputs": [
    {
     "name": "stdout",
     "output_type": "stream",
     "text": [
      "\n",
      "Extracted features: {'contains(loove)': True, 'contains(movie)': True, 'contains(!)': True, 'contains(awesome)': True, 'tweet_length': 5, 'has_exclamation': True, 'has_question': False, 'uppercase_count': 0}\n"
     ]
    }
   ],
   "source": [
    "test_features = extract_features(cleaned_tokens)\n",
    "print(\"\\nExtracted features:\", test_features)"
   ]
  },
  {
   "cell_type": "code",
   "execution_count": 15,
   "metadata": {},
   "outputs": [],
   "source": [
    "from sklearn.feature_extraction.text import CountVectorizer\n",
    "from sklearn.model_selection import train_test_split\n",
    "from sklearn.naive_bayes import MultinomialNB\n",
    "from sklearn.metrics import classification_report"
   ]
  },
  {
   "cell_type": "code",
   "execution_count": 16,
   "metadata": {},
   "outputs": [],
   "source": [
    "# Function to preprocess tweets for vectorizer #\n",
    "def preprocess_for_vectorizer(tweet):\n",
    "    processed = basic_preprocess(tweet)\n",
    "    tokens = tokenize_tweet(processed)\n",
    "    clean_tokens = remove_stopwords(tokens)\n",
    "    return ' '.join(clean_tokens)"
   ]
  },
  {
   "cell_type": "code",
   "execution_count": 17,
   "metadata": {},
   "outputs": [],
   "source": [
    "vectorizer = CountVectorizer(\n",
    "    max_features=5000,\n",
    "    preprocessor=preprocess_for_vectorizer\n",
    ")"
   ]
  },
  {
   "cell_type": "code",
   "execution_count": 18,
   "metadata": {},
   "outputs": [
    {
     "name": "stdout",
     "output_type": "stream",
     "text": [
      "\n",
      "Classification Report:\n",
      "                        precision    recall  f1-score   support\n",
      "\n",
      "            \"negative\"       0.11      0.06      0.08       144\n",
      "             \"neutral\"       0.18      0.10      0.13       176\n",
      "           \"objective\"       0.13      0.05      0.07       132\n",
      "\"objective-OR-neutral\"       0.09      0.07      0.08       168\n",
      "            \"positive\"       0.36      0.66      0.47       349\n",
      "\n",
      "              accuracy                           0.28       969\n",
      "             macro avg       0.18      0.19      0.16       969\n",
      "          weighted avg       0.21      0.28      0.23       969\n",
      "\n"
     ]
    }
   ],
   "source": [
    "if 'text' in train_df.columns:\n",
    "    X = vectorizer.fit_transform(train_df['text'])\n",
    "    y = train_df['label']\n",
    "    \n",
    "    # Split data\n",
    "    X_train, X_test, y_train, y_test = train_test_split(X, y, test_size=0.2, random_state=42)\n",
    "    \n",
    "    # Train classifier\n",
    "    clf = MultinomialNB()\n",
    "    clf.fit(X_train, y_train)\n",
    "    \n",
    "    # Make predictions\n",
    "    y_pred = clf.predict(X_test)\n",
    "    \n",
    "    # Print results\n",
    "    print(\"\\nClassification Report:\")\n",
    "    print(classification_report(y_test, y_pred))\n",
    "else:\n",
    "    print(\"\\nNote: 'text' column not found in data. Skipping classification step.\")"
   ]
  },
  {
   "cell_type": "code",
   "execution_count": 27,
   "metadata": {},
   "outputs": [],
   "source": [
    "import matplotlib.pyplot as plt\n",
    "import seaborn as sns\n",
    "from sklearn.metrics import confusion_matrix\n",
    "import numpy as np"
   ]
  },
  {
   "cell_type": "code",
   "execution_count": 28,
   "metadata": {},
   "outputs": [
    {
     "name": "stdout",
     "output_type": "stream",
     "text": [
      "\n",
      "=== FINAL ANALYSIS RESULTS ===\n",
      "\n",
      "\n",
      "Dataset Statistics:\n",
      "--------------------------------------------------\n",
      "Total number of tweets: 4842\n",
      "\n",
      "Label distribution:\n",
      "\"positive\"                1770\n",
      "\"neutral\"                  862\n",
      "\"objective-OR-neutral\"     848\n",
      "\"negative\"                 749\n",
      "\"objective\"                613\n",
      "Name: label, dtype: int64\n",
      "\n",
      "Feature Set Performance Comparison:\n",
      "--------------------------------------------------\n"
     ]
    },
    {
     "name": "stderr",
     "output_type": "stream",
     "text": [
      "/Users/Apexr/Library/Python/3.9/lib/python/site-packages/sklearn/metrics/_classification.py:1531: UndefinedMetricWarning: Precision is ill-defined and being set to 0.0 in labels with no predicted samples. Use `zero_division` parameter to control this behavior.\n",
      "  _warn_prf(average, modifier, f\"{metric.capitalize()} is\", len(result))\n",
      "/Users/Apexr/Library/Python/3.9/lib/python/site-packages/sklearn/metrics/_classification.py:1531: UndefinedMetricWarning: Precision is ill-defined and being set to 0.0 in labels with no predicted samples. Use `zero_division` parameter to control this behavior.\n",
      "  _warn_prf(average, modifier, f\"{metric.capitalize()} is\", len(result))\n",
      "/Users/Apexr/Library/Python/3.9/lib/python/site-packages/sklearn/metrics/_classification.py:1531: UndefinedMetricWarning: Precision is ill-defined and being set to 0.0 in labels with no predicted samples. Use `zero_division` parameter to control this behavior.\n",
      "  _warn_prf(average, modifier, f\"{metric.capitalize()} is\", len(result))\n",
      "/Users/Apexr/Library/Python/3.9/lib/python/site-packages/sklearn/metrics/_classification.py:1531: UndefinedMetricWarning: Precision is ill-defined and being set to 0.0 in labels with no predicted samples. Use `zero_division` parameter to control this behavior.\n",
      "  _warn_prf(average, modifier, f\"{metric.capitalize()} is\", len(result))\n",
      "/Users/Apexr/Library/Python/3.9/lib/python/site-packages/sklearn/metrics/_classification.py:1531: UndefinedMetricWarning: Precision is ill-defined and being set to 0.0 in labels with no predicted samples. Use `zero_division` parameter to control this behavior.\n",
      "  _warn_prf(average, modifier, f\"{metric.capitalize()} is\", len(result))\n",
      "/Users/Apexr/Library/Python/3.9/lib/python/site-packages/sklearn/metrics/_classification.py:1531: UndefinedMetricWarning: Precision is ill-defined and being set to 0.0 in labels with no predicted samples. Use `zero_division` parameter to control this behavior.\n",
      "  _warn_prf(average, modifier, f\"{metric.capitalize()} is\", len(result))\n",
      "/Users/Apexr/Library/Python/3.9/lib/python/site-packages/sklearn/metrics/_classification.py:1531: UndefinedMetricWarning: Precision is ill-defined and being set to 0.0 in labels with no predicted samples. Use `zero_division` parameter to control this behavior.\n",
      "  _warn_prf(average, modifier, f\"{metric.capitalize()} is\", len(result))\n",
      "/Users/Apexr/Library/Python/3.9/lib/python/site-packages/sklearn/metrics/_classification.py:1531: UndefinedMetricWarning: Precision is ill-defined and being set to 0.0 in labels with no predicted samples. Use `zero_division` parameter to control this behavior.\n",
      "  _warn_prf(average, modifier, f\"{metric.capitalize()} is\", len(result))\n",
      "/Users/Apexr/Library/Python/3.9/lib/python/site-packages/sklearn/metrics/_classification.py:1531: UndefinedMetricWarning: Precision is ill-defined and being set to 0.0 in labels with no predicted samples. Use `zero_division` parameter to control this behavior.\n",
      "  _warn_prf(average, modifier, f\"{metric.capitalize()} is\", len(result))\n"
     ]
    },
    {
     "name": "stdout",
     "output_type": "stream",
     "text": [
      "\n",
      "baseline results:\n",
      "accuracy: 0.289 (±0.007)\n",
      "precision_macro: 0.180 (±0.016)\n",
      "recall_macro: 0.189 (±0.009)\n",
      "f1_macro: 0.166 (±0.013)\n",
      "\n",
      "tfidf results:\n",
      "accuracy: 0.364 (±0.002)\n",
      "precision_macro: 0.107 (±0.042)\n",
      "recall_macro: 0.199 (±0.001)\n",
      "f1_macro: 0.108 (±0.001)\n",
      "\n",
      "tfidf_bigrams results:\n",
      "accuracy: 0.360 (±0.003)\n",
      "precision_macro: 0.114 (±0.032)\n",
      "recall_macro: 0.198 (±0.001)\n",
      "f1_macro: 0.109 (±0.001)\n",
      "\n",
      "Sample Predictions:\n",
      "--------------------------------------------------\n",
      "\n",
      "True Label: \"objective-OR-neutral\"\n",
      "Predicted: \"positive\"\n",
      "\n",
      "True Label: \"objective-OR-neutral\"\n",
      "Predicted: \"positive\"\n",
      "\n",
      "True Label: \"objective-OR-neutral\"\n",
      "Predicted: \"positive\"\n",
      "\n",
      "True Label: \"positive\"\n",
      "Predicted: \"neutral\"\n",
      "\n",
      "True Label: \"neutral\"\n",
      "Predicted: \"positive\"\n",
      "\n",
      "Final Model Performance:\n",
      "--------------------------------------------------\n",
      "\n",
      "Classification Report:\n",
      "                        precision    recall  f1-score   support\n",
      "\n",
      "            \"negative\"       0.11      0.06      0.08       144\n",
      "             \"neutral\"       0.18      0.10      0.13       176\n",
      "           \"objective\"       0.13      0.05      0.07       132\n",
      "\"objective-OR-neutral\"       0.09      0.07      0.08       168\n",
      "            \"positive\"       0.36      0.66      0.47       349\n",
      "\n",
      "              accuracy                           0.28       969\n",
      "             macro avg       0.18      0.19      0.16       969\n",
      "          weighted avg       0.21      0.28      0.23       969\n",
      "\n",
      "\n",
      "Misclassification Analysis:\n",
      "--------------------------------------------------\n",
      "\n",
      "Most common misclassifications (True → Predicted):\n",
      "\"neutral\" → \"positive\": 114 times\n",
      "\"objective-OR-neutral\" → \"positive\": 107 times\n",
      "\"negative\" → \"positive\": 94 times\n",
      "\"objective\" → \"positive\": 88 times\n",
      "\"positive\" → \"objective-OR-neutral\": 41 times\n",
      "\"positive\" → \"neutral\": 35 times\n",
      "\"positive\" → \"negative\": 29 times\n",
      "\"negative\" → \"objective-OR-neutral\": 24 times\n",
      "\"neutral\" → \"objective-OR-neutral\": 23 times\n",
      "\"objective-OR-neutral\" → \"neutral\": 21 times\n",
      "\"objective\" → \"objective-OR-neutral\": 19 times\n",
      "\"neutral\" → \"negative\": 16 times\n",
      "\"objective-OR-neutral\" → \"negative\": 15 times\n",
      "\"objective-OR-neutral\" → \"objective\": 14 times\n",
      "\"positive\" → \"objective\": 14 times\n",
      "\"negative\" → \"neutral\": 11 times\n",
      "\"objective\" → \"negative\": 10 times\n",
      "\"objective\" → \"neutral\": 9 times\n",
      "\"negative\" → \"objective\": 6 times\n",
      "\"neutral\" → \"objective\": 6 times\n"
     ]
    },
    {
     "data": {
      "image/png": "[encoded data removed]",
      "text/plain": [
       "<Figure size 1000x500 with 1 Axes>"
      ]
     },
     "metadata": {},
     "output_type": "display_data"
    },
    {
     "data": {
      "image/png": "[encoded data removed]",
      "text/plain": [
       "<Figure size 800x600 with 2 Axes>"
      ]
     },
     "metadata": {},
     "output_type": "display_data"
    },
    {
     "name": "stdout",
     "output_type": "stream",
     "text": [
      "\n",
      "Summary of Model Performance Across Feature Sets:\n",
      "--------------------------------------------------\n",
      "\n",
      "baseline:\n",
      "  accuracy: 0.289 ± 0.007\n",
      "  precision_macro: 0.180 ± 0.016\n",
      "  recall_macro: 0.189 ± 0.009\n",
      "  f1_macro: 0.166 ± 0.013\n",
      "\n",
      "tfidf:\n",
      "  accuracy: 0.364 ± 0.002\n",
      "  precision_macro: 0.107 ± 0.042\n",
      "  recall_macro: 0.199 ± 0.001\n",
      "  f1_macro: 0.108 ± 0.001\n",
      "\n",
      "tfidf_bigrams:\n",
      "  accuracy: 0.360 ± 0.003\n",
      "  precision_macro: 0.114 ± 0.032\n",
      "  recall_macro: 0.198 ± 0.001\n",
      "  f1_macro: 0.109 ± 0.001\n"
     ]
    }
   ],
   "source": [
    "# Final Results Section\n",
    "print(\"\\n=== FINAL ANALYSIS RESULTS ===\\n\")\n",
    "\n",
    "# 1. Dataset Statistics\n",
    "print(\"\\nDataset Statistics:\")\n",
    "print(\"-\" * 50)\n",
    "print(f\"Total number of tweets: {len(train_df)}\")\n",
    "print(\"\\nLabel distribution:\")\n",
    "print(train_df['label'].value_counts())\n",
    "\n",
    "# 2. Feature Set Performance\n",
    "print(\"\\nFeature Set Performance Comparison:\")\n",
    "print(\"-\" * 50)\n",
    "feature_comparison = compare_feature_sets(train_df)\n",
    "for feature_set, results in feature_comparison.items():\n",
    "    print(f\"\\n{feature_set} results:\")\n",
    "    for metric, values in results.items():\n",
    "        print(f\"{metric}: {values['mean']:.3f} (±{values['std']:.3f})\")\n",
    "\n",
    "# 3. Sample Predictions\n",
    "print(\"\\nSample Predictions:\")\n",
    "print(\"-\" * 50)\n",
    "n_samples = min(5, len(y_pred))\n",
    "sample_indices = np.random.choice(len(y_pred), n_samples, replace=False)\n",
    "\n",
    "for idx in sample_indices:\n",
    "    print(f\"\\nTrue Label: {y_test.iloc[idx]}\")\n",
    "    print(f\"Predicted: {y_pred[idx]}\")\n",
    "\n",
    "# 4. Final Performance Metrics\n",
    "print(\"\\nFinal Model Performance:\")\n",
    "print(\"-\" * 50)\n",
    "print(\"\\nClassification Report:\")\n",
    "print(classification_report(y_test, y_pred))\n",
    "\n",
    "# 5. Analysis of Misclassifications\n",
    "print(\"\\nMisclassification Analysis:\")\n",
    "print(\"-\" * 50)\n",
    "true_labels = list(y_test)\n",
    "pred_labels = list(y_pred)\n",
    "mismatches = [(true, pred) for true, pred in zip(true_labels, pred_labels) if true != pred]\n",
    "if mismatches:\n",
    "    mismatch_counts = {}\n",
    "    for true, pred in mismatches:\n",
    "        pair = f\"{true} → {pred}\"\n",
    "        mismatch_counts[pair] = mismatch_counts.get(pair, 0) + 1\n",
    "    \n",
    "    print(\"\\nMost common misclassifications (True → Predicted):\")\n",
    "    for pair, count in sorted(mismatch_counts.items(), key=lambda x: x[1], reverse=True):\n",
    "        print(f\"{pair}: {count} times\")\n",
    "\n",
    "# 6. Visualizations\n",
    "import matplotlib.pyplot as plt\n",
    "import seaborn as sns\n",
    "from sklearn.metrics import confusion_matrix\n",
    "\n",
    "# Label Distribution\n",
    "plt.figure(figsize=(10, 5))\n",
    "train_df['label'].value_counts().plot(kind='bar')\n",
    "plt.title('Distribution of Sentiment Labels')\n",
    "plt.xlabel('Label')\n",
    "plt.ylabel('Count')\n",
    "plt.xticks(rotation=45)\n",
    "plt.tight_layout()\n",
    "plt.show()\n",
    "\n",
    "# Confusion Matrix\n",
    "plt.figure(figsize=(8, 6))\n",
    "cm = confusion_matrix(y_test, y_pred)\n",
    "sns.heatmap(cm, annot=True, fmt='d', cmap='Blues')\n",
    "plt.title('Confusion Matrix')\n",
    "plt.xlabel('Predicted')\n",
    "plt.ylabel('True')\n",
    "plt.tight_layout()\n",
    "plt.show()\n",
    "\n",
    "# 7. Print Feature Set Performance Summary\n",
    "print(\"\\nSummary of Model Performance Across Feature Sets:\")\n",
    "print(\"-\" * 50)\n",
    "for feature_set, results in feature_comparison.items():\n",
    "    print(f\"\\n{feature_set}:\")\n",
    "    for metric, values in results.items():\n",
    "        print(f\"  {metric}: {values['mean']:.3f} ± {values['std']:.3f}\")"
   ]
  },
  {
   "cell_type": "code",
   "execution_count": null,
   "metadata": {},
   "outputs": [],
   "source": []
  }
 ],
 "metadata": {
  "kernelspec": {
   "display_name": "Python 3",
   "language": "python",
   "name": "python3"
  },
  "language_info": {
   "codemirror_mode": {
    "name": "ipython",
    "version": 3
   },
   "file_extension": ".py",
   "mimetype": "text/x-python",
   "name": "python",
   "nbconvert_exporter": "python",
   "pygments_lexer": "ipython3",
   "version": "3.9.6"
  }
 },
 "nbformat": 4,
 "nbformat_minor": 2
}
